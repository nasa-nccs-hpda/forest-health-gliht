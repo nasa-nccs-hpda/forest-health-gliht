{
 "cells": [
  {
   "cell_type": "markdown",
   "id": "aa9ebf10-12ba-4873-8460-729e04b32e5b",
   "metadata": {},
   "source": [
    "# Masrk RCNN Train and Inference\n",
    "\n",
    "The following notebook uses the Detectron2 framework to train and perform\n",
    "inference using a MaskRCNN model. This is one of the base models used largely\n",
    "in object detection problems."
   ]
  },
  {
   "cell_type": "code",
   "execution_count": null,
   "id": "2d34703f-b480-45be-b079-773cc545c765",
   "metadata": {},
   "outputs": [],
   "source": [
    "# if detectron2 is not installed, uncomment this line\n",
    "# !pip install 'git+https://github.com/facebookresearch/detectron2.git' 'fvcore==0.1.5.post20221221' tabulate"
   ]
  },
  {
   "cell_type": "code",
   "execution_count": null,
   "id": "9baeb054-3799-4adc-ad7b-147fb7c6c496",
   "metadata": {},
   "outputs": [],
   "source": [
    "# Original Src: https://colab.research.google.com/drive/16jcaJoc6bCFAQ96jDe2HwtXj7BMD_-m5#scrollTo=HUjkwRsOn1O0\n",
    "\n",
    "import os\n",
    "import sys\n",
    "\n",
    "# import some common libraries\n",
    "import numpy as np\n",
    "import json\n",
    "import cv2\n",
    "import pdb\n",
    "import time\n",
    "import random\n",
    "from pathlib import Path\n",
    "\n",
    "# if path is not found, uncomment this line and replace\n",
    "# with your username\n",
    "# sys.path.append('/home/jacaraba/.local/lib/python3.10/site-packages')\n",
    "\n",
    "# import detectron2 libraries\n",
    "#from detectron2.utils.logger import setup_logger\n",
    "\n",
    "#setup_logger()\n",
    "\n",
    "# import some common detectron2 utilities\n",
    "from detectron2 import model_zoo\n",
    "from detectron2.config import get_cfg\n",
    "from detectron2.engine import DefaultTrainer\n",
    "from detectron2.engine import DefaultPredictor\n",
    "from detectron2.utils.visualizer import ColorMode\n",
    "from detectron2.utils.visualizer import Visualizer\n",
    "from detectron2.data import MetadataCatalog, DatasetCatalog\n",
    "from detectron2.data.datasets import register_coco_instances"
   ]
  },
  {
   "cell_type": "code",
   "execution_count": null,
   "id": "d7131593-9ae3-41d5-bc15-63c3e2fd5ba5",
   "metadata": {},
   "outputs": [],
   "source": [
    "# directory where main data is located\n",
    "base_dir = '/explore/nobackup/people/jacaraba/development/forest-health-gliht/data'\n",
    "output_dir = '/explore/nobackup/people/jacaraba/development/forest-health-gliht/output'"
   ]
  },
  {
   "cell_type": "markdown",
   "id": "cc9c9c2d-4f60-481e-9d11-f30815360fd7",
   "metadata": {},
   "source": [
    "## Train on my Data"
   ]
  },
  {
   "cell_type": "code",
   "execution_count": null,
   "id": "38ae79a2-6826-41bb-acbe-23be00f6de0c",
   "metadata": {},
   "outputs": [],
   "source": [
    "flight = 'OR_20190630_Three_Creek'\n",
    "train_dir = os.path.join(base_dir, 'datasets', 'OR_20190630_Three_Creek', 'train')\n",
    "test_dir = os.path.join(base_dir, 'datasets', 'OR_20190630_Three_Creek', 'test')\n",
    "val_dir = os.path.join(base_dir, 'datasets', 'OR_20190630_Three_Creek', 'val')"
   ]
  },
  {
   "cell_type": "code",
   "execution_count": null,
   "id": "e9644fdf-b7b0-442a-8403-32b5112c394c",
   "metadata": {},
   "outputs": [],
   "source": [
    "# coco formatted dataset\n",
    "train_json = os.path.join(base_dir, 'OR_20190630_Three_Creek_train.json')\n",
    "test_json = os.path.join(base_dir, 'OR_20190630_Three_Creek_test.json')\n",
    "val_json = os.path.join(base_dir, 'OR_20190630_Three_Creek_val.json')"
   ]
  },
  {
   "cell_type": "code",
   "execution_count": null,
   "id": "c5da74ad-fdd8-46e8-be51-1e70ac1027bf",
   "metadata": {},
   "outputs": [],
   "source": [
    "# register the datasets\n",
    "register_coco_instances(f'{flight}_train', {}, train_json, train_dir)"
   ]
  },
  {
   "cell_type": "code",
   "execution_count": null,
   "id": "1458c95f-3656-4479-99eb-db32ac064af7",
   "metadata": {},
   "outputs": [],
   "source": [
    "# register the datasets\n",
    "register_coco_instances(f'{flight}_test', {}, test_json, test_dir)"
   ]
  },
  {
   "cell_type": "code",
   "execution_count": null,
   "id": "27475505-c172-4399-b80c-ddce106bea0d",
   "metadata": {},
   "outputs": [],
   "source": [
    "# register the datasets\n",
    "register_coco_instances(f'{flight}_val', {}, val_json, val_dir)"
   ]
  },
  {
   "cell_type": "markdown",
   "id": "f28ca8de-c2ec-4950-9228-36f662c578cf",
   "metadata": {},
   "source": [
    "## Fine-tune a COCO-pretrained R50-FPN Mask R-CNN model on the dataset."
   ]
  },
  {
   "cell_type": "code",
   "execution_count": null,
   "id": "3ba2361d-e782-4747-ae4c-5e5255fd66a5",
   "metadata": {},
   "outputs": [],
   "source": [
    "# It takes ~6 minutes to train 300 iterations on Colab's K80 GPU, or ~2 minutes on a P100 GPU\n",
    "cfg = get_cfg()\n",
    "#cfg.merge_from_file(model_zoo.get_config_file(\"COCO-InstanceSegmentation/mask_rcnn_R_50_FPN_3x.yaml\"))\n",
    "\n",
    "cfg._BASE_ = \"../Base-RCNN-FPN.yaml\"\n",
    "cfg.MODEL.WEIGHTS = \"detectron2://ImageNetPretrained/MSRA/R-50.pkl\"\n",
    "cfg.MODEL.MASK_ON = True\n",
    "cfg.MODEL.RESNETS.DEPTH = 50\n",
    "cfg.SOLVER.STEPS = (210000, 250000)\n",
    "cfg.SOLVER.MAX_ITER = 270000"
   ]
  },
  {
   "cell_type": "code",
   "execution_count": null,
   "id": "12e8e436-1389-40ff-aed6-89baf70c46fa",
   "metadata": {},
   "outputs": [],
   "source": [
    "cfg.DATASETS.TRAIN = (f'{flight}_val',)\n",
    "cfg.DATASETS.VAL = (f'{flight}_test',)\n",
    "cfg.DATASETS.TEST = ()\n",
    "cfg.DATALOADER.NUM_WORKERS = 4 # can increase with better computer\n",
    "\n",
    "# Let training initialize from model zoo\n",
    "cfg.MODEL.WEIGHTS = model_zoo.get_checkpoint_url(\"COCO-InstanceSegmentation/mask_rcnn_R_50_FPN_3x.yaml\")\n",
    "cfg.SOLVER.IMS_PER_BATCH = 2 # dataset-dependent, try out 4-10, good computer start high (32)\n",
    "cfg.SOLVER.BASE_LR = 0.000025  # pick a good LR\n",
    "cfg.SOLVER.MAX_ITER = 10  # 300 iterations seems good enough for this toy dataset; you will need to train longer for a practical dataset\n",
    "cfg.MODEL.ROI_HEADS.BATCH_SIZE_PER_IMAGE = 128   # faster, and good enough for this toy dataset (default: 512) #lowering can help for prod\n",
    "cfg.MODEL.ROI_HEADS.NUM_CLASSES = 1  # only has one class\n",
    "cfg.OUTPUT_DIR = output_dir\n",
    "cfg.DATALOADER.FILTER_EMPTY_ANNOTATIONS=False # Src: https://github.com/facebookresearch/detectron2/issues/819\n",
    "\n",
    "os.makedirs(cfg.OUTPUT_DIR, exist_ok=True)"
   ]
  },
  {
   "cell_type": "code",
   "execution_count": null,
   "id": "2a560a2d-ecab-452e-a24d-cb641e356204",
   "metadata": {},
   "outputs": [],
   "source": [
    "final_model_path = os.path.join(cfg.OUTPUT_DIR, \"model_final.pth\")\n",
    "if os.path.isfile(final_model_path):\n",
    "    os.remove(final_model_path)\n",
    "    \n",
    "if not os.path.isfile(final_model_path): #don't rerun training unless I cleared the old one\n",
    "  trainer = DefaultTrainer(cfg) \n",
    "  trainer.resume_or_load(resume=False)\n",
    "  trainer.train()"
   ]
  },
  {
   "cell_type": "markdown",
   "id": "9dd2818c-246e-4add-a2fc-19a465160fbe",
   "metadata": {},
   "source": [
    "## Inference & evaluation using the trained model"
   ]
  },
  {
   "cell_type": "code",
   "execution_count": null,
   "id": "e4e695ce-d6b8-41da-a77e-5347188d2e94",
   "metadata": {},
   "outputs": [],
   "source": [
    "# First, let's create a predictor using the model we just trained\n",
    "# Inference should use the config with parameters that are used in training\n",
    "# Changes for inference:\n",
    "cfg.MODEL.WEIGHTS = os.path.join(cfg.OUTPUT_DIR, \"model_final.pth\")  # path to the model we just trained\n",
    "cfg.MODEL.ROI_HEADS.SCORE_THRESH_TEST = 0.75   # set a custom testing threshold (from 0.63)\n",
    "predictor = DefaultPredictor(cfg)"
   ]
  },
  {
   "cell_type": "code",
   "execution_count": null,
   "id": "a09b7c42-c6dc-4737-9220-d82b00a13b1a",
   "metadata": {},
   "outputs": [],
   "source": [
    "metadata = MetadataCatalog.get(f'{flight}_test')\n",
    "dataset_dicts = DatasetCatalog.get(f'{flight}_test')\n",
    "cfg.DATASETS.TEST = (f'{flight}_test',)"
   ]
  },
  {
   "cell_type": "code",
   "execution_count": null,
   "id": "f2895008-c303-475b-b2be-1e1d996cb03a",
   "metadata": {},
   "outputs": [],
   "source": [
    "input_prediction = '../data/datasets/OR_20190630_Three_Creek/test/OR_20190630_Three_Creek_c3r2_c2r11_00.png'"
   ]
  },
  {
   "cell_type": "code",
   "execution_count": null,
   "id": "14120989-5419-4a9c-843f-021ecae9789b",
   "metadata": {},
   "outputs": [],
   "source": [
    "# example inference\n",
    "im = cv2.imread(input_prediction)\n",
    "outputs = predictor(im)  # format is documented at https://detectron2.readthedocs.io/tutorials/models.html#model-output-format\n",
    "v = Visualizer(im[:, :, ::-1],\n",
    "             metadata=metadata, \n",
    "             scale=1, \n",
    ")\n",
    "v.draw_instance_predictions(outputs[\"instances\"].to(\"cpu\"))"
   ]
  },
  {
   "cell_type": "code",
   "execution_count": null,
   "id": "509f90c0-b3f4-4fc4-ba34-8438f8131b45",
   "metadata": {},
   "outputs": [],
   "source": [
    "v = v.get_output()\n",
    "cv2.imwrite(f\"prediction_{Path(input_prediction).stem}.png\", v.get_image()[:, :, ::-1]) "
   ]
  }
 ],
 "metadata": {
  "kernelspec": {
   "display_name": "ILAB Kernel (Pytorch)",
   "language": "python",
   "name": "pytorch-kernel"
  },
  "language_info": {
   "codemirror_mode": {
    "name": "ipython",
    "version": 3
   },
   "file_extension": ".py",
   "mimetype": "text/x-python",
   "name": "python",
   "nbconvert_exporter": "python",
   "pygments_lexer": "ipython3",
   "version": "3.9.15"
  }
 },
 "nbformat": 4,
 "nbformat_minor": 5
}
